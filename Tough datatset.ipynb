{
 "cells": [
  {
   "cell_type": "code",
   "execution_count": 1,
   "metadata": {},
   "outputs": [],
   "source": [
    "import pandas as pd\n",
    "import numpy as np\n",
    "\n",
    "import seaborn as sns\n",
    "import matplotlib.pyplot as plt\n",
    "from sklearn.feature_selection import SelectKBest\n"
   ]
  },
  {
   "cell_type": "markdown",
   "metadata": {},
   "source": [
    "# Feature Engineering"
   ]
  },
  {
   "cell_type": "code",
   "execution_count": 2,
   "metadata": {},
   "outputs": [],
   "source": [
    "\n",
    "df=pd.read_csv('tough_dataset.csv',encoding='latin1')\n",
    "df.shape\n",
    "pd.isnull(df['Hours/Shift']).sum()\n",
    "for col_name in df.columns: #dropping the features having more than half missing values\n",
    " if (pd.isnull(df[col_name]).sum()>1475):\n",
    "    df.drop([col_name],axis=1,inplace=True)\n"
   ]
  },
  {
   "cell_type": "code",
   "execution_count": 3,
   "metadata": {},
   "outputs": [
    {
     "data": {
      "text/plain": [
       "(2946, 65)"
      ]
     },
     "execution_count": 3,
     "metadata": {},
     "output_type": "execute_result"
    }
   ],
   "source": [
    "df.shape"
   ]
  },
  {
   "cell_type": "code",
   "execution_count": 4,
   "metadata": {},
   "outputs": [
    {
     "data": {
      "text/plain": [
       "LanguageDesireNextYear       667\n",
       "CheckInCode                  627\n",
       "VersionControl               614\n",
       "IDE                          586\n",
       "OperatingSystem              569\n",
       "LanguageWorkedWith           499\n",
       "HopeFiveYears                469\n",
       "LastNewJob                   447\n",
       "JobSearchStatus              435\n",
       "YearsCodingProf              408\n",
       "Preferred Skills             393\n",
       "UndergradMajor               322\n",
       "emp_length                   133\n",
       "title                         64\n",
       "FormalEducation               52\n",
       "DevType                       45\n",
       "Minimum Qual Requirements     20\n",
       "Process Date                   4\n",
       "Residency Requirement          4\n",
       "Posting Updated                4\n",
       "Posting Date                   4\n",
       "YearsCoding                    3\n",
       "To Apply                       1\n",
       "Target A                       0\n",
       "Target B                       0\n",
       "LOAN_AMT                       0\n",
       "Business Title                 0\n",
       "Division/Work Unit             0\n",
       "Job Description                0\n",
       "Civil Service Title            0\n",
       "last_credit_pull_d             0\n",
       "CompanySize                    0\n",
       "last_pymnt_amnt                0\n",
       "term                           0\n",
       "loan_status                    0\n",
       "pymnt_plan                     0\n",
       "url                            0\n",
       "purpose                        0\n",
       "zip_code                       0\n",
       "addr_state                     0\n",
       "dti                            0\n",
       "earliest_cr_line               0\n",
       "last_pymnt_d                   0\n",
       "id                             0\n",
       "dtype: int64"
      ]
     },
     "execution_count": 4,
     "metadata": {},
     "output_type": "execute_result"
    }
   ],
   "source": [
    "sumna=pd.isnull(df).sum()\n",
    "sumna.sort_values(ascending=False).tail(44)"
   ]
  },
  {
   "cell_type": "code",
   "execution_count": 5,
   "metadata": {},
   "outputs": [],
   "source": [
    "#random sampling the missing values\n",
    "for feature in df.columns:\n",
    "\n",
    "    df[feature+\"random\"]=df[feature]   \n",
    "    df3=df[feature].dropna().sample(pd.isnull(df[feature]).sum(),random_state=0)\n",
    "    df3.index=df[df[feature].isnull()].index\n",
    "    df.loc[df[feature].isnull(),feature+\"random\"]=df3"
   ]
  },
  {
   "cell_type": "code",
   "execution_count": 6,
   "metadata": {},
   "outputs": [],
   "source": [
    "#imputed dataset\n",
    "df4=df.iloc[:,65:]"
   ]
  },
  {
   "cell_type": "code",
   "execution_count": 7,
   "metadata": {},
   "outputs": [
    {
     "data": {
      "text/html": [
       "<div>\n",
       "<style scoped>\n",
       "    .dataframe tbody tr th:only-of-type {\n",
       "        vertical-align: middle;\n",
       "    }\n",
       "\n",
       "    .dataframe tbody tr th {\n",
       "        vertical-align: top;\n",
       "    }\n",
       "\n",
       "    .dataframe thead th {\n",
       "        text-align: right;\n",
       "    }\n",
       "</style>\n",
       "<table border=\"1\" class=\"dataframe\">\n",
       "  <thead>\n",
       "    <tr style=\"text-align: right;\">\n",
       "      <th></th>\n",
       "      <th>idrandom</th>\n",
       "      <th>Target Arandom</th>\n",
       "      <th>Target Brandom</th>\n",
       "      <th>LOAN_AMTrandom</th>\n",
       "      <th>New York City residency is generally required within 90 days of appointment. However, City Employees in certain titles who have worked for the City for 2 continuous years may also be eligible to reside in Nassau, Suffolk, Putnam, Westchester, Rockland, or Orange County. To determine if the residency requirement applies to you, please discuss with the agency representative at the time of interview.</th>\n",
       "      <th>New York City Residency is not required for this position</th>\n",
       "      <th>NYCHA has no residency requirements.</th>\n",
       "      <th>New York City Residency is not required for this position.</th>\n",
       "      <th>This position is exempt from NYC residency requirements.</th>\n",
       "      <th>New York City residency is not required for this position.</th>\n",
       "      <th>...</th>\n",
       "      <th>17-Apr</th>\n",
       "      <th>17-Mar</th>\n",
       "      <th>16-Dec</th>\n",
       "      <th>18-Jul</th>\n",
       "      <th>18-Nov</th>\n",
       "      <th>18-Oct</th>\n",
       "      <th>18-Sep</th>\n",
       "      <th>18-Aug</th>\n",
       "      <th>17-Oct</th>\n",
       "      <th>18-May</th>\n",
       "    </tr>\n",
       "  </thead>\n",
       "  <tbody>\n",
       "    <tr>\n",
       "      <th>0</th>\n",
       "      <td>68407277</td>\n",
       "      <td>42405.00</td>\n",
       "      <td>0</td>\n",
       "      <td>3600</td>\n",
       "      <td>1</td>\n",
       "      <td>0</td>\n",
       "      <td>0</td>\n",
       "      <td>0</td>\n",
       "      <td>0</td>\n",
       "      <td>0</td>\n",
       "      <td>...</td>\n",
       "      <td>0</td>\n",
       "      <td>0</td>\n",
       "      <td>0</td>\n",
       "      <td>0</td>\n",
       "      <td>0</td>\n",
       "      <td>0</td>\n",
       "      <td>0</td>\n",
       "      <td>0</td>\n",
       "      <td>0</td>\n",
       "      <td>0</td>\n",
       "    </tr>\n",
       "    <tr>\n",
       "      <th>1</th>\n",
       "      <td>68355089</td>\n",
       "      <td>60740.00</td>\n",
       "      <td>1</td>\n",
       "      <td>24700</td>\n",
       "      <td>1</td>\n",
       "      <td>0</td>\n",
       "      <td>0</td>\n",
       "      <td>0</td>\n",
       "      <td>0</td>\n",
       "      <td>0</td>\n",
       "      <td>...</td>\n",
       "      <td>0</td>\n",
       "      <td>0</td>\n",
       "      <td>0</td>\n",
       "      <td>0</td>\n",
       "      <td>0</td>\n",
       "      <td>0</td>\n",
       "      <td>0</td>\n",
       "      <td>0</td>\n",
       "      <td>0</td>\n",
       "      <td>0</td>\n",
       "    </tr>\n",
       "    <tr>\n",
       "      <th>2</th>\n",
       "      <td>68341763</td>\n",
       "      <td>51907.68</td>\n",
       "      <td>0</td>\n",
       "      <td>20000</td>\n",
       "      <td>0</td>\n",
       "      <td>0</td>\n",
       "      <td>1</td>\n",
       "      <td>0</td>\n",
       "      <td>0</td>\n",
       "      <td>0</td>\n",
       "      <td>...</td>\n",
       "      <td>0</td>\n",
       "      <td>0</td>\n",
       "      <td>0</td>\n",
       "      <td>0</td>\n",
       "      <td>0</td>\n",
       "      <td>0</td>\n",
       "      <td>0</td>\n",
       "      <td>0</td>\n",
       "      <td>0</td>\n",
       "      <td>0</td>\n",
       "    </tr>\n",
       "    <tr>\n",
       "      <th>3</th>\n",
       "      <td>66310712</td>\n",
       "      <td>51907.68</td>\n",
       "      <td>0</td>\n",
       "      <td>35000</td>\n",
       "      <td>0</td>\n",
       "      <td>0</td>\n",
       "      <td>1</td>\n",
       "      <td>0</td>\n",
       "      <td>0</td>\n",
       "      <td>0</td>\n",
       "      <td>...</td>\n",
       "      <td>0</td>\n",
       "      <td>0</td>\n",
       "      <td>0</td>\n",
       "      <td>0</td>\n",
       "      <td>0</td>\n",
       "      <td>0</td>\n",
       "      <td>0</td>\n",
       "      <td>0</td>\n",
       "      <td>0</td>\n",
       "      <td>0</td>\n",
       "    </tr>\n",
       "    <tr>\n",
       "      <th>4</th>\n",
       "      <td>68476807</td>\n",
       "      <td>35.00</td>\n",
       "      <td>1</td>\n",
       "      <td>10400</td>\n",
       "      <td>0</td>\n",
       "      <td>0</td>\n",
       "      <td>0</td>\n",
       "      <td>0</td>\n",
       "      <td>0</td>\n",
       "      <td>0</td>\n",
       "      <td>...</td>\n",
       "      <td>0</td>\n",
       "      <td>0</td>\n",
       "      <td>0</td>\n",
       "      <td>0</td>\n",
       "      <td>0</td>\n",
       "      <td>0</td>\n",
       "      <td>0</td>\n",
       "      <td>0</td>\n",
       "      <td>0</td>\n",
       "      <td>0</td>\n",
       "    </tr>\n",
       "    <tr>\n",
       "      <th>...</th>\n",
       "      <td>...</td>\n",
       "      <td>...</td>\n",
       "      <td>...</td>\n",
       "      <td>...</td>\n",
       "      <td>...</td>\n",
       "      <td>...</td>\n",
       "      <td>...</td>\n",
       "      <td>...</td>\n",
       "      <td>...</td>\n",
       "      <td>...</td>\n",
       "      <td>...</td>\n",
       "      <td>...</td>\n",
       "      <td>...</td>\n",
       "      <td>...</td>\n",
       "      <td>...</td>\n",
       "      <td>...</td>\n",
       "      <td>...</td>\n",
       "      <td>...</td>\n",
       "      <td>...</td>\n",
       "      <td>...</td>\n",
       "      <td>...</td>\n",
       "    </tr>\n",
       "    <tr>\n",
       "      <th>2941</th>\n",
       "      <td>68394526</td>\n",
       "      <td>67757.00</td>\n",
       "      <td>0</td>\n",
       "      <td>14000</td>\n",
       "      <td>0</td>\n",
       "      <td>1</td>\n",
       "      <td>0</td>\n",
       "      <td>0</td>\n",
       "      <td>0</td>\n",
       "      <td>0</td>\n",
       "      <td>...</td>\n",
       "      <td>0</td>\n",
       "      <td>0</td>\n",
       "      <td>0</td>\n",
       "      <td>0</td>\n",
       "      <td>0</td>\n",
       "      <td>0</td>\n",
       "      <td>0</td>\n",
       "      <td>0</td>\n",
       "      <td>0</td>\n",
       "      <td>0</td>\n",
       "    </tr>\n",
       "    <tr>\n",
       "      <th>2942</th>\n",
       "      <td>68404684</td>\n",
       "      <td>67757.00</td>\n",
       "      <td>1</td>\n",
       "      <td>18675</td>\n",
       "      <td>0</td>\n",
       "      <td>1</td>\n",
       "      <td>0</td>\n",
       "      <td>0</td>\n",
       "      <td>0</td>\n",
       "      <td>0</td>\n",
       "      <td>...</td>\n",
       "      <td>0</td>\n",
       "      <td>0</td>\n",
       "      <td>0</td>\n",
       "      <td>0</td>\n",
       "      <td>0</td>\n",
       "      <td>0</td>\n",
       "      <td>0</td>\n",
       "      <td>0</td>\n",
       "      <td>0</td>\n",
       "      <td>0</td>\n",
       "    </tr>\n",
       "    <tr>\n",
       "      <th>2943</th>\n",
       "      <td>68414567</td>\n",
       "      <td>54100.00</td>\n",
       "      <td>0</td>\n",
       "      <td>24000</td>\n",
       "      <td>1</td>\n",
       "      <td>0</td>\n",
       "      <td>0</td>\n",
       "      <td>0</td>\n",
       "      <td>0</td>\n",
       "      <td>0</td>\n",
       "      <td>...</td>\n",
       "      <td>0</td>\n",
       "      <td>0</td>\n",
       "      <td>0</td>\n",
       "      <td>0</td>\n",
       "      <td>0</td>\n",
       "      <td>0</td>\n",
       "      <td>0</td>\n",
       "      <td>0</td>\n",
       "      <td>0</td>\n",
       "      <td>0</td>\n",
       "    </tr>\n",
       "    <tr>\n",
       "      <th>2944</th>\n",
       "      <td>68373599</td>\n",
       "      <td>54100.00</td>\n",
       "      <td>0</td>\n",
       "      <td>2500</td>\n",
       "      <td>1</td>\n",
       "      <td>0</td>\n",
       "      <td>0</td>\n",
       "      <td>0</td>\n",
       "      <td>0</td>\n",
       "      <td>0</td>\n",
       "      <td>...</td>\n",
       "      <td>0</td>\n",
       "      <td>0</td>\n",
       "      <td>0</td>\n",
       "      <td>0</td>\n",
       "      <td>0</td>\n",
       "      <td>0</td>\n",
       "      <td>0</td>\n",
       "      <td>0</td>\n",
       "      <td>0</td>\n",
       "      <td>0</td>\n",
       "    </tr>\n",
       "    <tr>\n",
       "      <th>2945</th>\n",
       "      <td>68172458</td>\n",
       "      <td>36390.00</td>\n",
       "      <td>0</td>\n",
       "      <td>10000</td>\n",
       "      <td>1</td>\n",
       "      <td>0</td>\n",
       "      <td>0</td>\n",
       "      <td>0</td>\n",
       "      <td>0</td>\n",
       "      <td>0</td>\n",
       "      <td>...</td>\n",
       "      <td>0</td>\n",
       "      <td>0</td>\n",
       "      <td>0</td>\n",
       "      <td>0</td>\n",
       "      <td>0</td>\n",
       "      <td>0</td>\n",
       "      <td>0</td>\n",
       "      <td>0</td>\n",
       "      <td>0</td>\n",
       "      <td>0</td>\n",
       "    </tr>\n",
       "  </tbody>\n",
       "</table>\n",
       "<p>2946 rows × 217 columns</p>\n",
       "</div>"
      ],
      "text/plain": [
       "      idrandom  Target Arandom  Target Brandom  LOAN_AMTrandom  \\\n",
       "0     68407277        42405.00               0            3600   \n",
       "1     68355089        60740.00               1           24700   \n",
       "2     68341763        51907.68               0           20000   \n",
       "3     66310712        51907.68               0           35000   \n",
       "4     68476807           35.00               1           10400   \n",
       "...        ...             ...             ...             ...   \n",
       "2941  68394526        67757.00               0           14000   \n",
       "2942  68404684        67757.00               1           18675   \n",
       "2943  68414567        54100.00               0           24000   \n",
       "2944  68373599        54100.00               0            2500   \n",
       "2945  68172458        36390.00               0           10000   \n",
       "\n",
       "      New York City residency is generally required within 90 days of appointment. However, City Employees in certain titles who have worked for the City for 2 continuous years may also be eligible to reside in Nassau, Suffolk, Putnam, Westchester, Rockland, or Orange County. To determine if the residency requirement applies to you, please discuss with the agency representative at the time of interview.  \\\n",
       "0                                                     1                                                                                                                                                                                                                                                                                                                                                                  \n",
       "1                                                     1                                                                                                                                                                                                                                                                                                                                                                  \n",
       "2                                                     0                                                                                                                                                                                                                                                                                                                                                                  \n",
       "3                                                     0                                                                                                                                                                                                                                                                                                                                                                  \n",
       "4                                                     0                                                                                                                                                                                                                                                                                                                                                                  \n",
       "...                                                 ...                                                                                                                                                                                                                                                                                                                                                                  \n",
       "2941                                                  0                                                                                                                                                                                                                                                                                                                                                                  \n",
       "2942                                                  0                                                                                                                                                                                                                                                                                                                                                                  \n",
       "2943                                                  1                                                                                                                                                                                                                                                                                                                                                                  \n",
       "2944                                                  1                                                                                                                                                                                                                                                                                                                                                                  \n",
       "2945                                                  1                                                                                                                                                                                                                                                                                                                                                                  \n",
       "\n",
       "      New York City Residency is not required for this position  \\\n",
       "0                                                     0           \n",
       "1                                                     0           \n",
       "2                                                     0           \n",
       "3                                                     0           \n",
       "4                                                     0           \n",
       "...                                                 ...           \n",
       "2941                                                  1           \n",
       "2942                                                  1           \n",
       "2943                                                  0           \n",
       "2944                                                  0           \n",
       "2945                                                  0           \n",
       "\n",
       "      NYCHA has no residency requirements.  \\\n",
       "0                                        0   \n",
       "1                                        0   \n",
       "2                                        1   \n",
       "3                                        1   \n",
       "4                                        0   \n",
       "...                                    ...   \n",
       "2941                                     0   \n",
       "2942                                     0   \n",
       "2943                                     0   \n",
       "2944                                     0   \n",
       "2945                                     0   \n",
       "\n",
       "      New York City Residency is not required for this position.  \\\n",
       "0                                                     0            \n",
       "1                                                     0            \n",
       "2                                                     0            \n",
       "3                                                     0            \n",
       "4                                                     0            \n",
       "...                                                 ...            \n",
       "2941                                                  0            \n",
       "2942                                                  0            \n",
       "2943                                                  0            \n",
       "2944                                                  0            \n",
       "2945                                                  0            \n",
       "\n",
       "      This position is exempt from NYC residency requirements.  \\\n",
       "0                                                     0          \n",
       "1                                                     0          \n",
       "2                                                     0          \n",
       "3                                                     0          \n",
       "4                                                     0          \n",
       "...                                                 ...          \n",
       "2941                                                  0          \n",
       "2942                                                  0          \n",
       "2943                                                  0          \n",
       "2944                                                  0          \n",
       "2945                                                  0          \n",
       "\n",
       "      New York City residency is not required for this position.  ...  17-Apr  \\\n",
       "0                                                     0           ...       0   \n",
       "1                                                     0           ...       0   \n",
       "2                                                     0           ...       0   \n",
       "3                                                     0           ...       0   \n",
       "4                                                     0           ...       0   \n",
       "...                                                 ...           ...     ...   \n",
       "2941                                                  0           ...       0   \n",
       "2942                                                  0           ...       0   \n",
       "2943                                                  0           ...       0   \n",
       "2944                                                  0           ...       0   \n",
       "2945                                                  0           ...       0   \n",
       "\n",
       "      17-Mar  16-Dec  18-Jul  18-Nov  18-Oct  18-Sep  18-Aug  17-Oct  18-May  \n",
       "0          0       0       0       0       0       0       0       0       0  \n",
       "1          0       0       0       0       0       0       0       0       0  \n",
       "2          0       0       0       0       0       0       0       0       0  \n",
       "3          0       0       0       0       0       0       0       0       0  \n",
       "4          0       0       0       0       0       0       0       0       0  \n",
       "...      ...     ...     ...     ...     ...     ...     ...     ...     ...  \n",
       "2941       0       0       0       0       0       0       0       0       0  \n",
       "2942       0       0       0       0       0       0       0       0       0  \n",
       "2943       0       0       0       0       0       0       0       0       0  \n",
       "2944       0       0       0       0       0       0       0       0       0  \n",
       "2945       0       0       0       0       0       0       0       0       0  \n",
       "\n",
       "[2946 rows x 217 columns]"
      ]
     },
     "execution_count": 7,
     "metadata": {},
     "output_type": "execute_result"
    }
   ],
   "source": [
    "#One hot encoding the top 15 categories or less\n",
    "for i in df4.iloc[:,4:].columns:\n",
    " if df4[i].value_counts().count()>100:\n",
    "    df4.drop([i],axis=1,inplace=True)\n",
    "df4.head(10)\n",
    "df4.shape\n",
    "for i in df4.iloc[:,4:].columns:\n",
    " if df4[i].value_counts().count()>15:\n",
    "  top_15=[x for x in df4[i].value_counts().sort_values(ascending=False).head(15).index]\n",
    "  for label in top_15:\n",
    "   df4[label]=np.where(df4[i]==label,1,0)\n",
    " if df4[i].value_counts().count()<=15:\n",
    "  top=[x for x in df4[i].value_counts().sort_values(ascending=False).index]\n",
    "  for label in top:\n",
    "   df4[label]=np.where(df4[i]==label,1,0)\n",
    "        \n",
    " \n",
    "df4.iloc[:,32:].head(50)\n",
    "df5=df4.iloc[:,0:4]\n",
    "df6=df4.iloc[:,36:]\n",
    "finale=pd.concat([df5,df6],axis=1)\n",
    "#one hot encoded data set\n",
    "finale\n",
    "\n",
    "\n",
    " "
   ]
  },
  {
   "cell_type": "markdown",
   "metadata": {},
   "source": [
    "# Feature Selection"
   ]
  },
  {
   "cell_type": "code",
   "execution_count": 8,
   "metadata": {},
   "outputs": [
    {
     "data": {
      "text/plain": [
       "(2356, 25)"
      ]
     },
     "execution_count": 8,
     "metadata": {},
     "output_type": "execute_result"
    }
   ],
   "source": [
    "#selecting 25 best features for Category B\n",
    "from sklearn.model_selection import train_test_split\n",
    "XR=finale.iloc[:,3:]\n",
    "yr=finale.iloc[:,2]\n",
    "XR_train, XR_test, yr_train, yr_test = train_test_split(XR, yr, test_size=0.2)\n",
    "from sklearn.feature_selection import chi2\n",
    "from sklearn.feature_selection import SelectKBest\n",
    "ordered_rank_features=SelectKBest(score_func=chi2, k=100)\n",
    "ordered_feature=ordered_rank_features.fit(XR_train,yr_train)\n",
    "dfscores=pd.DataFrame(ordered_feature.scores_,columns=[\"Score\"])\n",
    "dfcolumns=pd.DataFrame(XR_train.columns)\n",
    "features_rank=pd.concat([dfcolumns,dfscores],axis=1)\n",
    "features_rank.columns=['Features','Score']\n",
    "list=features_rank.nlargest(25,'Score')\n",
    "list\n",
    "XR_test_new=pd.DataFrame()\n",
    "XR_train_new=pd.DataFrame()\n",
    "for i in list[\"Features\"]:\n",
    "    XR_train_new[i]=XR_train[i] #new data with the important feature\n",
    "for i in list[\"Features\"]:\n",
    "    XR_test_new[i]=XR_test[i]\n",
    "\n",
    "XR_train.shape  \n",
    "yr_train.shape\n",
    "XR_train_new.shape\n",
    "\n",
    "\n",
    "    \n",
    "\n",
    "#from sklearn.ensemble import ExtraTreesClassifier\n",
    "#model=ExtraTreesClassifier()\n",
    "#model.fit(XR_train,yr_train)\n"
   ]
  },
  {
   "cell_type": "code",
   "execution_count": 9,
   "metadata": {},
   "outputs": [
    {
     "name": "stderr",
     "output_type": "stream",
     "text": [
      "D:\\cod4\\New folder\\envs\\chatbot-workshop\\lib\\site-packages\\sklearn\\feature_selection\\_univariate_selection.py:302: RuntimeWarning: divide by zero encountered in true_divide\n",
      "  corr /= X_norms\n",
      "D:\\cod4\\New folder\\envs\\chatbot-workshop\\lib\\site-packages\\sklearn\\feature_selection\\_univariate_selection.py:307: RuntimeWarning: invalid value encountered in true_divide\n",
      "  F = corr ** 2 / (1 - corr ** 2) * degrees_of_freedom\n",
      "D:\\cod4\\New folder\\envs\\chatbot-workshop\\lib\\site-packages\\scipy\\stats\\_distn_infrastructure.py:1932: RuntimeWarning: invalid value encountered in less_equal\n",
      "  cond2 = cond0 & (x <= _a)\n"
     ]
    }
   ],
   "source": [
    "#selecting 25 best features for Category A\n",
    "from sklearn.model_selection import train_test_split\n",
    "XRA=finale.iloc[:,3:]\n",
    "yrA=finale.iloc[:,1]\n",
    "XRA_train, XRA_test, yrA_train, yrA_test = train_test_split(XRA, yrA, test_size=0.2)\n",
    "from sklearn.feature_selection import f_regression\n",
    "from sklearn.feature_selection import SelectKBest\n",
    "ordered_rank_featuresA=SelectKBest(score_func=f_regression, k=100)\n",
    "ordered_featureA=ordered_rank_featuresA.fit(XRA_train,yrA_train)\n",
    "dfAscores=pd.DataFrame(ordered_featureA.scores_,columns=[\"Score\"])\n",
    "dfAcolumns=pd.DataFrame(XRA_train.columns)\n",
    "features_rankA=pd.concat([dfAcolumns,dfAscores],axis=1)\n",
    "features_rankA.columns=['Features','Score']\n",
    "listA=features_rankA.nlargest(25,'Score')\n",
    "listA\n",
    "XRA_test_new=pd.DataFrame()\n",
    "XRA_train_new=pd.DataFrame()\n",
    "for i in listA[\"Features\"]:\n",
    "    XRA_train_new[i]=XRA_train[i] #new data with the important feature\n",
    "for i in listA[\"Features\"]:\n",
    "    XRA_test_new[i]=XRA_test[i]\n",
    "    \n"
   ]
  },
  {
   "cell_type": "markdown",
   "metadata": {},
   "source": [
    "# Creating Machine Learning Models"
   ]
  },
  {
   "cell_type": "code",
   "execution_count": 10,
   "metadata": {},
   "outputs": [
    {
     "name": "stdout",
     "output_type": "stream",
     "text": [
      "0.7237288135593221\n"
     ]
    },
    {
     "data": {
      "text/plain": [
       "0.6886003941248587"
      ]
     },
     "execution_count": 10,
     "metadata": {},
     "output_type": "execute_result"
    }
   ],
   "source": [
    "#Random Forest for target B\n",
    "from sklearn.ensemble import RandomForestClassifier\n",
    "from sklearn import metrics\n",
    "classifier=RandomForestClassifier()\n",
    "mod=classifier.fit(XR_train_new,yr_train)\n",
    "pred=classifier.predict(XR_test_new)\n",
    "print(metrics.accuracy_score(yr_test,pred))\n",
    "from sklearn.metrics import f1_score\n",
    "f1_score(yr_test,pred,average='weighted')\n"
   ]
  },
  {
   "cell_type": "code",
   "execution_count": 11,
   "metadata": {},
   "outputs": [
    {
     "name": "stdout",
     "output_type": "stream",
     "text": [
      "0.7237288135593221\n"
     ]
    },
    {
     "data": {
      "text/plain": [
       "0.6919508799427955"
      ]
     },
     "execution_count": 11,
     "metadata": {},
     "output_type": "execute_result"
    }
   ],
   "source": [
    "#Decision Trees for target B\n",
    "from sklearn import tree\n",
    "from sklearn import metrics\n",
    "dt=tree.DecisionTreeClassifier()\n",
    "mod2=dt.fit(XR_train_new,yr_train)\n",
    "pred2=dt.predict(XR_test_new)\n",
    "print(metrics.accuracy_score(yr_test,pred2))\n",
    "from sklearn.metrics import f1_score\n",
    "f1_score(yr_test,pred2,average='weighted')"
   ]
  },
  {
   "cell_type": "code",
   "execution_count": 12,
   "metadata": {},
   "outputs": [
    {
     "name": "stdout",
     "output_type": "stream",
     "text": [
      "[19:52:28] WARNING: C:/Users/Administrator/workspace/xgboost-win64_release_1.4.0/src/learner.cc:1095: Starting in XGBoost 1.3.0, the default evaluation metric used with the objective 'binary:logistic' was changed from 'error' to 'logloss'. Explicitly set eval_metric if you'd like to restore the old behavior."
     ]
    },
    {
     "name": "stderr",
     "output_type": "stream",
     "text": [
      "D:\\cod4\\New folder\\envs\\chatbot-workshop\\lib\\site-packages\\xgboost\\sklearn.py:1146: UserWarning: The use of label encoder in XGBClassifier is deprecated and will be removed in a future release. To remove this warning, do the following: 1) Pass option use_label_encoder=False when constructing XGBClassifier object; and 2) Encode your labels (y) as integers starting with 0, i.e. 0, 1, 2, ..., [num_class - 1].\n",
      "  warnings.warn(label_encoder_deprecation_msg, UserWarning)\n"
     ]
    },
    {
     "name": "stdout",
     "output_type": "stream",
     "text": [
      "\n",
      "0.764406779661017\n"
     ]
    },
    {
     "name": "stderr",
     "output_type": "stream",
     "text": [
      "D:\\cod4\\New folder\\envs\\chatbot-workshop\\lib\\site-packages\\xgboost\\data.py:114: UserWarning: Use subset (sliced data) of np.ndarray is not recommended because it will generate extra copies and increase memory consumption\n",
      "  \"because it will generate extra copies and increase \" +\n"
     ]
    },
    {
     "data": {
      "text/plain": [
       "0.7137424604570409"
      ]
     },
     "execution_count": 12,
     "metadata": {},
     "output_type": "execute_result"
    }
   ],
   "source": [
    "#XGboost Classifier for target B\n",
    "import xgboost as xgb\n",
    "from sklearn.metrics import f1_score\n",
    "xgclass=xgb.XGBClassifier()\n",
    "xgclass.fit(XR_train_new,yr_train)\n",
    "predxgbB=xgclass.predict(XR_test_new)\n",
    "print(metrics.accuracy_score(yr_test,predxgbB))\n",
    "f1_score(yr_test,predxgbB,average='weighted')"
   ]
  },
  {
   "cell_type": "code",
   "execution_count": 13,
   "metadata": {},
   "outputs": [
    {
     "data": {
      "text/plain": [
       "66965.29611957997"
      ]
     },
     "execution_count": 13,
     "metadata": {},
     "output_type": "execute_result"
    }
   ],
   "source": [
    "#Decision Trees for Target A\n",
    "from sklearn import tree\n",
    "from sklearn import metrics\n",
    "from math import sqrt\n",
    "from sklearn.metrics import mean_squared_error\n",
    "dtA=tree.DecisionTreeRegressor()\n",
    "mod2A=dtA.fit(XRA_train_new,yrA_train)\n",
    "pred2A=dt.predict(XRA_test_new)\n",
    "rms2=sqrt(mean_squared_error(yrA_test,pred2A))\n",
    "rms2\n",
    "\n"
   ]
  },
  {
   "cell_type": "code",
   "execution_count": 14,
   "metadata": {},
   "outputs": [
    {
     "data": {
      "text/plain": [
       "27333.15751450374"
      ]
     },
     "execution_count": 14,
     "metadata": {},
     "output_type": "execute_result"
    }
   ],
   "source": [
    "#Random Forest for target A\n",
    "from sklearn.ensemble import RandomForestRegressor\n",
    "from sklearn import metrics\n",
    "from sklearn.metrics import mean_squared_error\n",
    "from math import sqrt\n",
    "regressorA=RandomForestRegressor()\n",
    "modA=regressorA.fit(XRA_train_new,yrA_train)\n",
    "predA=regressorA.predict(XRA_test_new)\n",
    "\n",
    "rms1=sqrt(mean_squared_error(yrA_test,predA))\n",
    "rms1\n",
    "\n",
    "#print(metrics.accuracy_score(yrA_test,predA))"
   ]
  },
  {
   "cell_type": "code",
   "execution_count": 15,
   "metadata": {},
   "outputs": [
    {
     "name": "stderr",
     "output_type": "stream",
     "text": [
      "D:\\cod4\\New folder\\envs\\chatbot-workshop\\lib\\site-packages\\xgboost\\data.py:114: UserWarning: Use subset (sliced data) of np.ndarray is not recommended because it will generate extra copies and increase memory consumption\n",
      "  \"because it will generate extra copies and increase \" +\n"
     ]
    },
    {
     "name": "stdout",
     "output_type": "stream",
     "text": [
      "[19:52:30] WARNING: C:/Users/Administrator/workspace/xgboost-win64_release_1.4.0/src/objective/regression_obj.cu:171: reg:linear is now deprecated in favor of reg:squarederror.\n",
      "[19:52:30] WARNING: C:/Users/Administrator/workspace/xgboost-win64_release_1.4.0/src/objective/regression_obj.cu:171: reg:linear is now deprecated in favor of reg:squarederror.\n",
      "[19:52:30] WARNING: C:/Users/Administrator/workspace/xgboost-win64_release_1.4.0/src/objective/regression_obj.cu:171: reg:linear is now deprecated in favor of reg:squarederror.\n",
      "49    25362.580729\n",
      "Name: test-rmse-mean, dtype: float64\n"
     ]
    }
   ],
   "source": [
    "#XGboost Regression for Target A\n",
    "import xgboost as xgb\n",
    "xgreg=xgb.XGBRegressor()\n",
    "xgreg.fit(XRA_train_new,yrA_train)\n",
    "predxgbA=xgreg.predict(XRA_test_new)\n",
    "data_dmatrix = xgb.DMatrix(data=XRA_train_new,label=yrA_train)\n",
    "params = {\"objective\":\"reg:linear\",'colsample_bytree': 0.3,'learning_rate': 0.1,'max_depth': 5, 'alpha': 10}\n",
    "cv_results = xgb.cv(dtrain=data_dmatrix, params=params, nfold=3,num_boost_round=50,early_stopping_rounds=10,metrics=\"rmse\", as_pandas=True, seed=123)\n",
    "cv_results.head()\n",
    "print((cv_results[\"test-rmse-mean\"]).tail(1))\n",
    "\n"
   ]
  },
  {
   "cell_type": "code",
   "execution_count": null,
   "metadata": {},
   "outputs": [],
   "source": []
  }
 ],
 "metadata": {
  "kernelspec": {
   "display_name": "Python 3",
   "language": "python",
   "name": "python3"
  },
  "language_info": {
   "codemirror_mode": {
    "name": "ipython",
    "version": 3
   },
   "file_extension": ".py",
   "mimetype": "text/x-python",
   "name": "python",
   "nbconvert_exporter": "python",
   "pygments_lexer": "ipython3",
   "version": "3.7.9"
  }
 },
 "nbformat": 4,
 "nbformat_minor": 4
}
